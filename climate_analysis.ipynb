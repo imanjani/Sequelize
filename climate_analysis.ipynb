{
 "cells": [
  {
   "cell_type": "code",
   "execution_count": 1,
   "metadata": {
    "collapsed": true
   },
   "outputs": [],
   "source": [
    "from datetime import datetime, date\n",
    "# Imports for 'inspect/explore/reflect' columns\n",
    "from sqlalchemy.ext.automap import automap_base\n",
    "from sqlalchemy.orm import Session\n",
    "from sqlalchemy import create_engine, inspect\n",
    "# Import 'func' and 'desc' function, in order to execute count and descend\n",
    "from sqlalchemy import func, or_, and_\n",
    "from sqlalchemy import desc\n",
    "\n",
    "engine = create_engine(\"sqlite:///hawaii.sqlite\")"
   ]
  },
  {
   "cell_type": "code",
   "execution_count": 2,
   "metadata": {
    "collapsed": true
   },
   "outputs": [],
   "source": [
    "# Import dependencies for \n",
    "import numpy as np\n",
    "import os\n",
    "import pandas as pd\n",
    "import matplotlib.pyplot as plt\n",
    "import seaborn as sns"
   ]
  },
  {
   "cell_type": "markdown",
   "metadata": {},
   "source": [
    "#### Using 'inspect' to look at table columns and types. aka 'explore'"
   ]
  },
  {
   "cell_type": "code",
   "execution_count": 3,
   "metadata": {},
   "outputs": [
    {
     "data": {
      "text/plain": [
       "['measurements', 'stations']"
      ]
     },
     "execution_count": 3,
     "metadata": {},
     "output_type": "execute_result"
    }
   ],
   "source": [
    "inspector = inspect(engine)\n",
    "inspector.get_table_names()"
   ]
  },
  {
   "cell_type": "code",
   "execution_count": 4,
   "metadata": {},
   "outputs": [
    {
     "name": "stdout",
     "output_type": "stream",
     "text": [
      "{'name': 'id', 'type': INTEGER(), 'nullable': False, 'default': None, 'autoincrement': 'auto', 'primary_key': 1}\n",
      "{'name': 'station', 'type': VARCHAR(length=255), 'nullable': True, 'default': None, 'autoincrement': 'auto', 'primary_key': 0}\n",
      "{'name': 'name', 'type': VARCHAR(length=255), 'nullable': True, 'default': None, 'autoincrement': 'auto', 'primary_key': 0}\n",
      "{'name': 'latitude', 'type': FLOAT(), 'nullable': True, 'default': None, 'autoincrement': 'auto', 'primary_key': 0}\n",
      "{'name': 'longitude', 'type': FLOAT(), 'nullable': True, 'default': None, 'autoincrement': 'auto', 'primary_key': 0}\n",
      "{'name': 'elevation', 'type': FLOAT(), 'nullable': True, 'default': None, 'autoincrement': 'auto', 'primary_key': 0}\n"
     ]
    }
   ],
   "source": [
    "columns = inspector.get_columns('stations')\n",
    "for column in columns:\n",
    "    print(column)"
   ]
  },
  {
   "cell_type": "code",
   "execution_count": 5,
   "metadata": {},
   "outputs": [
    {
     "name": "stdout",
     "output_type": "stream",
     "text": [
      "{'name': 'id', 'type': INTEGER(), 'nullable': False, 'default': None, 'autoincrement': 'auto', 'primary_key': 1}\n",
      "{'name': 'station', 'type': VARCHAR(), 'nullable': True, 'default': None, 'autoincrement': 'auto', 'primary_key': 0}\n",
      "{'name': 'date', 'type': DATE(), 'nullable': True, 'default': None, 'autoincrement': 'auto', 'primary_key': 0}\n",
      "{'name': 'prcp', 'type': FLOAT(), 'nullable': True, 'default': None, 'autoincrement': 'auto', 'primary_key': 0}\n",
      "{'name': 'tobs', 'type': FLOAT(), 'nullable': True, 'default': None, 'autoincrement': 'auto', 'primary_key': 0}\n"
     ]
    }
   ],
   "source": [
    "m_columns = inspector.get_columns('measurements')\n",
    "for column in m_columns:\n",
    "    print(column)"
   ]
  },
  {
   "cell_type": "markdown",
   "metadata": {},
   "source": [
    "#### Using 'reflection' to view columns"
   ]
  },
  {
   "cell_type": "code",
   "execution_count": 6,
   "metadata": {},
   "outputs": [
    {
     "data": {
      "text/plain": [
       "['measurements', 'stations']"
      ]
     },
     "execution_count": 6,
     "metadata": {},
     "output_type": "execute_result"
    }
   ],
   "source": [
    "Base = automap_base()\n",
    "Base.prepare(engine, reflect=True)\n",
    "Base.classes.keys()"
   ]
  },
  {
   "cell_type": "code",
   "execution_count": 7,
   "metadata": {
    "collapsed": true
   },
   "outputs": [],
   "source": [
    "Measurements = Base.classes.measurements\n",
    "Stations = Base.classes.stations"
   ]
  },
  {
   "cell_type": "code",
   "execution_count": 8,
   "metadata": {},
   "outputs": [
    {
     "data": {
      "text/plain": [
       "[Column('id', INTEGER(), table=<stations>, primary_key=True, nullable=False),\n",
       " Column('station', VARCHAR(length=255), table=<stations>),\n",
       " Column('name', VARCHAR(length=255), table=<stations>),\n",
       " Column('latitude', FLOAT(), table=<stations>),\n",
       " Column('longitude', FLOAT(), table=<stations>),\n",
       " Column('elevation', FLOAT(), table=<stations>)]"
      ]
     },
     "execution_count": 8,
     "metadata": {},
     "output_type": "execute_result"
    }
   ],
   "source": [
    "list(Stations.__table__.columns)"
   ]
  },
  {
   "cell_type": "code",
   "execution_count": 9,
   "metadata": {},
   "outputs": [
    {
     "data": {
      "text/plain": [
       "[Column('id', INTEGER(), table=<measurements>, primary_key=True, nullable=False),\n",
       " Column('station', VARCHAR(), table=<measurements>),\n",
       " Column('date', DATE(), table=<measurements>),\n",
       " Column('prcp', FLOAT(), table=<measurements>),\n",
       " Column('tobs', FLOAT(), table=<measurements>)]"
      ]
     },
     "execution_count": 9,
     "metadata": {},
     "output_type": "execute_result"
    }
   ],
   "source": [
    "list(Measurements.__table__.columns)"
   ]
  },
  {
   "cell_type": "markdown",
   "metadata": {},
   "source": [
    "#### Creating the query sessions.  First, check the query implementation by calling all the columns from both tables and storing into variables, then used a for-loop to check the data from the query, and to double-check, imported into pandas dataframe to check if datetime was imported correctly."
   ]
  },
  {
   "cell_type": "code",
   "execution_count": 10,
   "metadata": {},
   "outputs": [
    {
     "name": "stdout",
     "output_type": "stream",
     "text": [
      "WAIKIKI 717.2, HI US\n",
      "KANEOHE 838.1, HI US\n",
      "KUALOA RANCH HEADQUARTERS 886.9, HI US\n",
      "PEARL CITY, HI US\n",
      "UPPER WAHIAWA 874.3, HI US\n",
      "WAIMANALO EXPERIMENTAL FARM, HI US\n",
      "WAIHEE 837.5, HI US\n",
      "HONOLULU OBSERVATORY 702.2, HI US\n",
      "MANOA LYON ARBO 785.2, HI US\n"
     ]
    }
   ],
   "source": [
    "session = Session(engine)\n",
    "station_query = (session.query(Stations.id, Stations.station, Stations.name,\n",
    "                     Stations.latitude, Stations.longitude, Stations.elevation)\n",
    "         .all())\n",
    "for row in station_query:\n",
    "     print(row.name)"
   ]
  },
  {
   "cell_type": "code",
   "execution_count": 11,
   "metadata": {
    "collapsed": true
   },
   "outputs": [],
   "source": [
    "measurement_query = (session.query(Measurements.id, Measurements.station,\n",
    "                                  Measurements.date, Measurements.prcp,\n",
    "                                  Measurements.tobs).all())\n",
    "#  **Storing 'Measurements' table -\n",
    "#  measurement_query_2 = session.query(Measurements)\n",
    "# for row in measurement_query:\n",
    "#      print(row.date.month)"
   ]
  },
  {
   "cell_type": "code",
   "execution_count": 12,
   "metadata": {
    "collapsed": true
   },
   "outputs": [],
   "source": [
    "station_df = pd.DataFrame(station_query)\n",
    "measurements_df = pd.DataFrame(measurement_query)"
   ]
  },
  {
   "cell_type": "code",
   "execution_count": 13,
   "metadata": {
    "collapsed": true
   },
   "outputs": [],
   "source": [
    "#station_df.head()"
   ]
  },
  {
   "cell_type": "code",
   "execution_count": 14,
   "metadata": {
    "collapsed": true
   },
   "outputs": [],
   "source": [
    "#measurements_df.head()"
   ]
  },
  {
   "cell_type": "markdown",
   "metadata": {},
   "source": [
    "## Precipitation Analysis\n",
    "* Querying the 'date' and 'prcp' attributes of Measurements with date filter.  Query is then transformed into dataframe, sorted, and rows with negative values (the rows with 'NaN' were replaced with -10 as a flag) were removed."
   ]
  },
  {
   "cell_type": "code",
   "execution_count": 15,
   "metadata": {
    "collapsed": true
   },
   "outputs": [],
   "source": [
    "prcp_query = session.query(Measurements.date, Measurements.prcp\n",
    "                          ).filter(Measurements.date >= \n",
    "                                   date(year=2016, month=8, day=23)).all()\n",
    "# for row in prcp_query:\n",
    "#     print(row)"
   ]
  },
  {
   "cell_type": "code",
   "execution_count": 16,
   "metadata": {
    "collapsed": true
   },
   "outputs": [],
   "source": [
    "prcp_query_df = pd.DataFrame(prcp_query)\n",
    "prcp_query_df = prcp_query_df.sort_values('date').set_index('date')\n",
    "#prcp_query_df.head()"
   ]
  },
  {
   "cell_type": "code",
   "execution_count": 17,
   "metadata": {
    "collapsed": true
   },
   "outputs": [],
   "source": [
    "#df = df.drop(df[df.score < 50].index)\n",
    "prcp_query_df = prcp_query_df.reset_index()\n",
    "prcp_query_df = prcp_query_df[prcp_query_df.prcp > -1].set_index('date')\n",
    "#prcp_query_df.head()"
   ]
  },
  {
   "cell_type": "code",
   "execution_count": 18,
   "metadata": {},
   "outputs": [
    {
     "data": {
      "text/html": [
       "<div>\n",
       "<style>\n",
       "    .dataframe thead tr:only-child th {\n",
       "        text-align: right;\n",
       "    }\n",
       "\n",
       "    .dataframe thead th {\n",
       "        text-align: left;\n",
       "    }\n",
       "\n",
       "    .dataframe tbody tr th {\n",
       "        vertical-align: top;\n",
       "    }\n",
       "</style>\n",
       "<table border=\"1\" class=\"dataframe\">\n",
       "  <thead>\n",
       "    <tr style=\"text-align: right;\">\n",
       "      <th></th>\n",
       "      <th>date</th>\n",
       "      <th>prcp</th>\n",
       "    </tr>\n",
       "  </thead>\n",
       "  <tbody>\n",
       "    <tr>\n",
       "      <th>0</th>\n",
       "      <td>2016-08-23</td>\n",
       "      <td>0.451667</td>\n",
       "    </tr>\n",
       "    <tr>\n",
       "      <th>1</th>\n",
       "      <td>2016-08-24</td>\n",
       "      <td>1.555000</td>\n",
       "    </tr>\n",
       "    <tr>\n",
       "      <th>2</th>\n",
       "      <td>2016-08-25</td>\n",
       "      <td>0.077143</td>\n",
       "    </tr>\n",
       "    <tr>\n",
       "      <th>3</th>\n",
       "      <td>2016-08-26</td>\n",
       "      <td>0.016667</td>\n",
       "    </tr>\n",
       "    <tr>\n",
       "      <th>4</th>\n",
       "      <td>2016-08-27</td>\n",
       "      <td>0.064000</td>\n",
       "    </tr>\n",
       "  </tbody>\n",
       "</table>\n",
       "</div>"
      ],
      "text/plain": [
       "         date      prcp\n",
       "0  2016-08-23  0.451667\n",
       "1  2016-08-24  1.555000\n",
       "2  2016-08-25  0.077143\n",
       "3  2016-08-26  0.016667\n",
       "4  2016-08-27  0.064000"
      ]
     },
     "execution_count": 18,
     "metadata": {},
     "output_type": "execute_result"
    }
   ],
   "source": [
    "prcp_query_sum = prcp_query_df.groupby('date').mean().reset_index()\n",
    "prcp_query_sum.head()"
   ]
  },
  {
   "cell_type": "code",
   "execution_count": 19,
   "metadata": {
    "collapsed": true
   },
   "outputs": [],
   "source": [
    "x_values = np.arange(len(prcp_query_sum.date))\n",
    "tick_labelling = prcp_query_sum.date\n",
    "precip = prcp_query_sum.prcp"
   ]
  },
  {
   "cell_type": "code",
   "execution_count": 20,
   "metadata": {},
   "outputs": [
    {
     "data": {
      "text/plain": [
       "<matplotlib.text.Text at 0x21b6c2ffa90>"
      ]
     },
     "execution_count": 20,
     "metadata": {},
     "output_type": "execute_result"
    }
   ],
   "source": [
    "plt.bar(x_values, precip, color = 'r',\n",
    "        tick_label=tick_labelling)\n",
    "plt.xticks(np.arange(10)*37, rotation=30)\n",
    "plt.ylim(-.1, 2.75)\n",
    "plt.legend(loc = 'upper left', labels=['prcp'])\n",
    "plt.title(\"Bar graph of the last 12 months\")\n"
   ]
  },
  {
   "cell_type": "code",
   "execution_count": 21,
   "metadata": {},
   "outputs": [
    {
     "data": {
      "image/png": "[encoded data removed]",
      "text/plain": [
       "<matplotlib.figure.Figure at 0x21b6c1ab7f0>"
      ]
     },
     "metadata": {},
     "output_type": "display_data"
    }
   ],
   "source": [
    "plt.show()"
   ]
  },
  {
   "cell_type": "markdown",
   "metadata": {},
   "source": [
    "## Station Analysis (#3)\n",
    "* Calculating number of stations\n",
    "* Calculating the number of ACTIVE stations "
   ]
  },
  {
   "cell_type": "markdown",
   "metadata": {},
   "source": [
    "#### Calculating the number of stations by counting the number of objects in the Stations class."
   ]
  },
  {
   "cell_type": "code",
   "execution_count": 22,
   "metadata": {},
   "outputs": [
    {
     "data": {
      "text/plain": [
       "9"
      ]
     },
     "execution_count": 22,
     "metadata": {},
     "output_type": "execute_result"
    }
   ],
   "source": [
    "num_stations = session.query(Stations).count()\n",
    "num_stations"
   ]
  },
  {
   "cell_type": "markdown",
   "metadata": {},
   "source": [
    "#### Calculating the number of Active stations by importing the 'func' method from sqlalchemy, then using 'group_by' method.  Returns a list of tuples.  Tuples are then unpacked using a for-loop, and a change in the variable 'type'.  Then converted to a Panda dataframe.\n",
    "* ANSWER TO MOST ACTIVE STATION IS 'USC00519281' WITH A COUNT OF '2772'\n",
    "\n",
    "\n",
    "* this is based on a count of 'tobs', since 'tobs' did not have any malfunction, all rows were used to count.  As opposed to 'prcp' (in the previous graph), where rows had to be deleted before analysis."
   ]
  },
  {
   "cell_type": "code",
   "execution_count": 23,
   "metadata": {},
   "outputs": [
    {
     "data": {
      "text/plain": [
       "[('USC00519281', 2772),\n",
       " ('USC00519397', 2724),\n",
       " ('USC00513117', 2709),\n",
       " ('USC00519523', 2669),\n",
       " ('USC00516128', 2612),\n",
       " ('USC00514830', 2202),\n",
       " ('USC00511918', 1979),\n",
       " ('USC00517948', 1372),\n",
       " ('USC00518838', 511)]"
      ]
     },
     "execution_count": 23,
     "metadata": {},
     "output_type": "execute_result"
    }
   ],
   "source": [
    "#from sqlalchemy import func\n",
    "#from sqlalchemy import desc\n",
    "active_stations = session.query(Measurements.station, func.count\n",
    "                                (Measurements.station)\n",
    "                               ).group_by(Measurements.station)\n",
    "active_stations = active_stations.order_by(desc(func.count(Measurements.station))).all()\n",
    "active_stations"
   ]
  },
  {
   "cell_type": "code",
   "execution_count": 24,
   "metadata": {},
   "outputs": [
    {
     "name": "stdout",
     "output_type": "stream",
     "text": [
      "[['USC00519281', 2772], ['USC00519397', 2724], ['USC00513117', 2709], ['USC00519523', 2669], ['USC00516128', 2612], ['USC00514830', 2202], ['USC00511918', 1979], ['USC00517948', 1372], ['USC00518838', 511]]\n"
     ]
    }
   ],
   "source": [
    "# 'active_stations' is returned as a list of tuples so this for loop will\n",
    "# unpack the tuples, in order to transform into a dataframe\n",
    "active_stations_list = []\n",
    "for each in active_stations:\n",
    "    active_stations_list.append(list(each))\n",
    "print(active_stations_list)"
   ]
  },
  {
   "cell_type": "code",
   "execution_count": 25,
   "metadata": {},
   "outputs": [
    {
     "data": {
      "text/html": [
       "<div>\n",
       "<style>\n",
       "    .dataframe thead tr:only-child th {\n",
       "        text-align: right;\n",
       "    }\n",
       "\n",
       "    .dataframe thead th {\n",
       "        text-align: left;\n",
       "    }\n",
       "\n",
       "    .dataframe tbody tr th {\n",
       "        vertical-align: top;\n",
       "    }\n",
       "</style>\n",
       "<table border=\"1\" class=\"dataframe\">\n",
       "  <thead>\n",
       "    <tr style=\"text-align: right;\">\n",
       "      <th></th>\n",
       "      <th>stations</th>\n",
       "      <th>count</th>\n",
       "    </tr>\n",
       "  </thead>\n",
       "  <tbody>\n",
       "    <tr>\n",
       "      <th>0</th>\n",
       "      <td>USC00519281</td>\n",
       "      <td>2772</td>\n",
       "    </tr>\n",
       "    <tr>\n",
       "      <th>1</th>\n",
       "      <td>USC00519397</td>\n",
       "      <td>2724</td>\n",
       "    </tr>\n",
       "    <tr>\n",
       "      <th>2</th>\n",
       "      <td>USC00513117</td>\n",
       "      <td>2709</td>\n",
       "    </tr>\n",
       "    <tr>\n",
       "      <th>3</th>\n",
       "      <td>USC00519523</td>\n",
       "      <td>2669</td>\n",
       "    </tr>\n",
       "    <tr>\n",
       "      <th>4</th>\n",
       "      <td>USC00516128</td>\n",
       "      <td>2612</td>\n",
       "    </tr>\n",
       "    <tr>\n",
       "      <th>5</th>\n",
       "      <td>USC00514830</td>\n",
       "      <td>2202</td>\n",
       "    </tr>\n",
       "    <tr>\n",
       "      <th>6</th>\n",
       "      <td>USC00511918</td>\n",
       "      <td>1979</td>\n",
       "    </tr>\n",
       "    <tr>\n",
       "      <th>7</th>\n",
       "      <td>USC00517948</td>\n",
       "      <td>1372</td>\n",
       "    </tr>\n",
       "    <tr>\n",
       "      <th>8</th>\n",
       "      <td>USC00518838</td>\n",
       "      <td>511</td>\n",
       "    </tr>\n",
       "  </tbody>\n",
       "</table>\n",
       "</div>"
      ],
      "text/plain": [
       "      stations  count\n",
       "0  USC00519281   2772\n",
       "1  USC00519397   2724\n",
       "2  USC00513117   2709\n",
       "3  USC00519523   2669\n",
       "4  USC00516128   2612\n",
       "5  USC00514830   2202\n",
       "6  USC00511918   1979\n",
       "7  USC00517948   1372\n",
       "8  USC00518838    511"
      ]
     },
     "execution_count": 25,
     "metadata": {},
     "output_type": "execute_result"
    }
   ],
   "source": [
    "active_stations_list = pd.DataFrame(active_stations_list).sort_values(\n",
    "    1, ascending=False).reset_index(drop=True)\n",
    "active_stations_list = active_stations_list.rename(columns={0: 'stations', 1:'count'})\n",
    "active_stations_list"
   ]
  },
  {
   "cell_type": "markdown",
   "metadata": {},
   "source": [
    "#### Playing around: Executing SQL statement from Python terminal"
   ]
  },
  {
   "cell_type": "code",
   "execution_count": 26,
   "metadata": {
    "collapsed": true
   },
   "outputs": [],
   "source": [
    "blah = engine.execute('select station, count(station) as count from Measurements group by station order by count desc').fetchall()\n",
    "                       "
   ]
  },
  {
   "cell_type": "code",
   "execution_count": 27,
   "metadata": {},
   "outputs": [
    {
     "name": "stdout",
     "output_type": "stream",
     "text": [
      "[['USC00519281', 2772], ['USC00519397', 2724], ['USC00513117', 2709], ['USC00519523', 2669], ['USC00516128', 2612], ['USC00514830', 2202], ['USC00511918', 1979], ['USC00517948', 1372], ['USC00518838', 511]]\n"
     ]
    }
   ],
   "source": [
    "another_blah = []\n",
    "for each in blah:\n",
    "    another_blah.append(list(each))\n",
    "print(another_blah)"
   ]
  },
  {
   "cell_type": "code",
   "execution_count": 28,
   "metadata": {
    "collapsed": true
   },
   "outputs": [],
   "source": [
    "# another_blah_df = pd.DataFrame(another_blah)\n",
    "# another_blah_df"
   ]
  },
  {
   "cell_type": "markdown",
   "metadata": {},
   "source": [
    "#### Calculate number of observations from the most active station"
   ]
  },
  {
   "cell_type": "code",
   "execution_count": 29,
   "metadata": {
    "collapsed": true
   },
   "outputs": [],
   "source": [
    "max_station = session.query(Measurements.station, func.count(Measurements.tobs)\n",
    "                          ).filter(Measurements.date >= \n",
    "                                   date(year=2016, month=8, day=23)\n",
    "                                  ).group_by(Measurements.station).order_by(desc(func.count(Measurements.tobs))).first().station"
   ]
  },
  {
   "cell_type": "code",
   "execution_count": 30,
   "metadata": {},
   "outputs": [
    {
     "data": {
      "text/plain": [
       "'USC00519397'"
      ]
     },
     "execution_count": 30,
     "metadata": {},
     "output_type": "execute_result"
    }
   ],
   "source": [
    "max_station"
   ]
  },
  {
   "cell_type": "code",
   "execution_count": 31,
   "metadata": {
    "collapsed": true
   },
   "outputs": [],
   "source": [
    "tobs_query = session.query(Measurements.station, Measurements.date, Measurements.tobs\n",
    "                          ).filter(Measurements.date >= \n",
    "                                   date(year=2016, month=8, day=23)\n",
    "                                  ).filter(Measurements.station == max_station).all()"
   ]
  },
  {
   "cell_type": "code",
   "execution_count": 32,
   "metadata": {},
   "outputs": [
    {
     "data": {
      "text/html": [
       "<div>\n",
       "<style>\n",
       "    .dataframe thead tr:only-child th {\n",
       "        text-align: right;\n",
       "    }\n",
       "\n",
       "    .dataframe thead th {\n",
       "        text-align: left;\n",
       "    }\n",
       "\n",
       "    .dataframe tbody tr th {\n",
       "        vertical-align: top;\n",
       "    }\n",
       "</style>\n",
       "<table border=\"1\" class=\"dataframe\">\n",
       "  <thead>\n",
       "    <tr style=\"text-align: right;\">\n",
       "      <th></th>\n",
       "      <th>station</th>\n",
       "      <th>date</th>\n",
       "      <th>tobs</th>\n",
       "    </tr>\n",
       "  </thead>\n",
       "  <tbody>\n",
       "    <tr>\n",
       "      <th>0</th>\n",
       "      <td>USC00519397</td>\n",
       "      <td>2016-08-23</td>\n",
       "      <td>81.0</td>\n",
       "    </tr>\n",
       "    <tr>\n",
       "      <th>1</th>\n",
       "      <td>USC00519397</td>\n",
       "      <td>2016-08-24</td>\n",
       "      <td>79.0</td>\n",
       "    </tr>\n",
       "    <tr>\n",
       "      <th>2</th>\n",
       "      <td>USC00519397</td>\n",
       "      <td>2016-08-25</td>\n",
       "      <td>80.0</td>\n",
       "    </tr>\n",
       "    <tr>\n",
       "      <th>3</th>\n",
       "      <td>USC00519397</td>\n",
       "      <td>2016-08-26</td>\n",
       "      <td>79.0</td>\n",
       "    </tr>\n",
       "    <tr>\n",
       "      <th>4</th>\n",
       "      <td>USC00519397</td>\n",
       "      <td>2016-08-27</td>\n",
       "      <td>77.0</td>\n",
       "    </tr>\n",
       "  </tbody>\n",
       "</table>\n",
       "</div>"
      ],
      "text/plain": [
       "       station        date  tobs\n",
       "0  USC00519397  2016-08-23  81.0\n",
       "1  USC00519397  2016-08-24  79.0\n",
       "2  USC00519397  2016-08-25  80.0\n",
       "3  USC00519397  2016-08-26  79.0\n",
       "4  USC00519397  2016-08-27  77.0"
      ]
     },
     "execution_count": 32,
     "metadata": {},
     "output_type": "execute_result"
    }
   ],
   "source": [
    "tobs_query_df = pd.DataFrame(tobs_query)\n",
    "tobs_query_df.head()"
   ]
  },
  {
   "cell_type": "code",
   "execution_count": 33,
   "metadata": {},
   "outputs": [
    {
     "data": {
      "text/plain": [
       "60.0"
      ]
     },
     "execution_count": 33,
     "metadata": {},
     "output_type": "execute_result"
    }
   ],
   "source": [
    "tobs_query_df.tobs.min()"
   ]
  },
  {
   "cell_type": "code",
   "execution_count": 34,
   "metadata": {},
   "outputs": [
    {
     "data": {
      "text/plain": [
       "87.0"
      ]
     },
     "execution_count": 34,
     "metadata": {},
     "output_type": "execute_result"
    }
   ],
   "source": [
    "tobs_query_df.tobs.max()"
   ]
  },
  {
   "cell_type": "code",
   "execution_count": 35,
   "metadata": {},
   "outputs": [
    {
     "data": {
      "text/plain": [
       "13"
      ]
     },
     "execution_count": 35,
     "metadata": {},
     "output_type": "execute_result"
    }
   ],
   "source": [
    "bins = [59, 62.25, 64.5, 66.75, 69, 71.25, 73.5, 75.75, 78, 80.25, 82.5, 84.75, 87.25]\n",
    "len(bins)"
   ]
  },
  {
   "cell_type": "code",
   "execution_count": 36,
   "metadata": {
    "collapsed": true
   },
   "outputs": [],
   "source": [
    "tobs_query_df['Temp Obs Bins'] = pd.cut(tobs_query_df.tobs, bins)"
   ]
  },
  {
   "cell_type": "code",
   "execution_count": 37,
   "metadata": {},
   "outputs": [
    {
     "data": {
      "text/html": [
       "<div>\n",
       "<style>\n",
       "    .dataframe thead tr:only-child th {\n",
       "        text-align: right;\n",
       "    }\n",
       "\n",
       "    .dataframe thead th {\n",
       "        text-align: left;\n",
       "    }\n",
       "\n",
       "    .dataframe tbody tr th {\n",
       "        vertical-align: top;\n",
       "    }\n",
       "</style>\n",
       "<table border=\"1\" class=\"dataframe\">\n",
       "  <thead>\n",
       "    <tr style=\"text-align: right;\">\n",
       "      <th></th>\n",
       "      <th>Temp Obs Bins</th>\n",
       "      <th>count</th>\n",
       "    </tr>\n",
       "  </thead>\n",
       "  <tbody>\n",
       "    <tr>\n",
       "      <th>0</th>\n",
       "      <td>(59.0, 62.25]</td>\n",
       "      <td>7</td>\n",
       "    </tr>\n",
       "    <tr>\n",
       "      <th>1</th>\n",
       "      <td>(62.25, 64.5]</td>\n",
       "      <td>9</td>\n",
       "    </tr>\n",
       "    <tr>\n",
       "      <th>2</th>\n",
       "      <td>(64.5, 66.75]</td>\n",
       "      <td>12</td>\n",
       "    </tr>\n",
       "    <tr>\n",
       "      <th>3</th>\n",
       "      <td>(66.75, 69.0]</td>\n",
       "      <td>24</td>\n",
       "    </tr>\n",
       "    <tr>\n",
       "      <th>4</th>\n",
       "      <td>(69.0, 71.25]</td>\n",
       "      <td>30</td>\n",
       "    </tr>\n",
       "  </tbody>\n",
       "</table>\n",
       "</div>"
      ],
      "text/plain": [
       "   Temp Obs Bins  count\n",
       "0  (59.0, 62.25]      7\n",
       "1  (62.25, 64.5]      9\n",
       "2  (64.5, 66.75]     12\n",
       "3  (66.75, 69.0]     24\n",
       "4  (69.0, 71.25]     30"
      ]
     },
     "execution_count": 37,
     "metadata": {},
     "output_type": "execute_result"
    }
   ],
   "source": [
    "tobs_query_df_binning = tobs_query_df.sort_values('Temp Obs Bins').groupby('Temp Obs Bins').count()\n",
    "tobs_query_df_binning = tobs_query_df_binning[['station']].rename(columns={'station':'count'}).reset_index()\n",
    "tobs_query_df_binning.head()"
   ]
  },
  {
   "cell_type": "code",
   "execution_count": 38,
   "metadata": {
    "collapsed": true
   },
   "outputs": [],
   "source": [
    "x_values = np.arange(len(tobs_query_df_binning['count']))\n",
    "tick_labelling = ['60', '65', '70', '75', '80', '85', '', '' ,'','','','']"
   ]
  },
  {
   "cell_type": "code",
   "execution_count": 39,
   "metadata": {},
   "outputs": [
    {
     "data": {
      "text/plain": [
       "<matplotlib.text.Text at 0x21b6d0c3710>"
      ]
     },
     "execution_count": 39,
     "metadata": {},
     "output_type": "execute_result"
    }
   ],
   "source": [
    "plt.bar(x_values, tobs_query_df_binning['count'], color = 'r',\n",
    "        tick_label=tick_labelling)\n",
    "plt.xticks(np.arange(6)*2.25)\n",
    "plt.legend(loc='upper left', labels = [\"tobs\"])\n",
    "plt.title(\"Binning the number tobs\")"
   ]
  },
  {
   "cell_type": "code",
   "execution_count": 40,
   "metadata": {},
   "outputs": [
    {
     "data": {
      "image/png": "[encoded data removed]",
      "text/plain": [
       "<matplotlib.figure.Figure at 0x21b6c3f6198>"
      ]
     },
     "metadata": {},
     "output_type": "display_data"
    }
   ],
   "source": [
    "plt.show()"
   ]
  },
  {
   "cell_type": "markdown",
   "metadata": {},
   "source": [
    "### Calculating your vacation\n",
    "* Takes in input from user specifying start and end date for vacation, then analyzes the average temperature based on those dates.  Query is filtered using an 'and' function from sqlalchemy, which checks for date values greater and less than the specified date, to get a range.\n",
    "* Instructions specifically asked for a defining a function, and so a 'tobs_query_func' was designed to take in all of the user inputs, and returns a query object."
   ]
  },
  {
   "cell_type": "code",
   "execution_count": 41,
   "metadata": {},
   "outputs": [
    {
     "name": "stdout",
     "output_type": "stream",
     "text": [
      "What year is your travel plan? 2018\n",
      "What is the month of the year are you planning to DEPART? 3\n",
      "What is the day of the month that you are planning to DEPART? 3\n",
      "What is the month of the year are you planning to return? 3\n",
      "What is the day of the month that you are planning to return? 20\n"
     ]
    }
   ],
   "source": [
    "year = int(input('What year is your travel plan? ')) -1\n",
    "start_month = int(input('What is the month of the year are you planning to DEPART? '))\n",
    "start_day = int(input('What is the day of the month that you are planning to DEPART? '))\n",
    "end_month = int(input('What is the month of the year are you planning to return? '))\n",
    "end_day = int(input('What is the day of the month that you are planning to return? '))"
   ]
  },
  {
   "cell_type": "code",
   "execution_count": 42,
   "metadata": {
    "collapsed": true
   },
   "outputs": [],
   "source": [
    "def tobs_query_func(year, start_month, start_day, end_month, end_day):\n",
    "    tobs_query = session.query(Measurements.station, Measurements.date, Measurements.tobs\n",
    "                          ).filter(and_(Measurements.date >= \n",
    "                                   date(year, start_month, start_day), Measurements.date <= date(\n",
    "                                       year, end_month, end_day))).all()\n",
    "    return(tobs_query)"
   ]
  },
  {
   "cell_type": "code",
   "execution_count": 43,
   "metadata": {
    "collapsed": true
   },
   "outputs": [],
   "source": [
    "# tobs_query = session.query(Measurements.station, Measurements.date, Measurements.tobs\n",
    "#                           ).filter(and_(Measurements.date >= \n",
    "#                                    date(year, start_month, start_day), Measurements.date <= date(\n",
    "#                                        year, end_month, end_day))).all()"
   ]
  },
  {
   "cell_type": "code",
   "execution_count": 44,
   "metadata": {},
   "outputs": [
    {
     "data": {
      "text/html": [
       "<div>\n",
       "<style>\n",
       "    .dataframe thead tr:only-child th {\n",
       "        text-align: right;\n",
       "    }\n",
       "\n",
       "    .dataframe thead th {\n",
       "        text-align: left;\n",
       "    }\n",
       "\n",
       "    .dataframe tbody tr th {\n",
       "        vertical-align: top;\n",
       "    }\n",
       "</style>\n",
       "<table border=\"1\" class=\"dataframe\">\n",
       "  <thead>\n",
       "    <tr style=\"text-align: right;\">\n",
       "      <th></th>\n",
       "      <th>tobs</th>\n",
       "    </tr>\n",
       "    <tr>\n",
       "      <th>date</th>\n",
       "      <th></th>\n",
       "    </tr>\n",
       "  </thead>\n",
       "  <tbody>\n",
       "    <tr>\n",
       "      <th>2017-03-03</th>\n",
       "      <td>72.714286</td>\n",
       "    </tr>\n",
       "    <tr>\n",
       "      <th>2017-03-04</th>\n",
       "      <td>74.800000</td>\n",
       "    </tr>\n",
       "    <tr>\n",
       "      <th>2017-03-05</th>\n",
       "      <td>70.500000</td>\n",
       "    </tr>\n",
       "    <tr>\n",
       "      <th>2017-03-06</th>\n",
       "      <td>69.714286</td>\n",
       "    </tr>\n",
       "    <tr>\n",
       "      <th>2017-03-07</th>\n",
       "      <td>68.000000</td>\n",
       "    </tr>\n",
       "    <tr>\n",
       "      <th>2017-03-08</th>\n",
       "      <td>69.000000</td>\n",
       "    </tr>\n",
       "    <tr>\n",
       "      <th>2017-03-09</th>\n",
       "      <td>69.285714</td>\n",
       "    </tr>\n",
       "    <tr>\n",
       "      <th>2017-03-10</th>\n",
       "      <td>68.428571</td>\n",
       "    </tr>\n",
       "    <tr>\n",
       "      <th>2017-03-11</th>\n",
       "      <td>76.600000</td>\n",
       "    </tr>\n",
       "    <tr>\n",
       "      <th>2017-03-12</th>\n",
       "      <td>73.400000</td>\n",
       "    </tr>\n",
       "    <tr>\n",
       "      <th>2017-03-13</th>\n",
       "      <td>70.142857</td>\n",
       "    </tr>\n",
       "    <tr>\n",
       "      <th>2017-03-14</th>\n",
       "      <td>72.428571</td>\n",
       "    </tr>\n",
       "    <tr>\n",
       "      <th>2017-03-15</th>\n",
       "      <td>72.166667</td>\n",
       "    </tr>\n",
       "    <tr>\n",
       "      <th>2017-03-16</th>\n",
       "      <td>71.285714</td>\n",
       "    </tr>\n",
       "    <tr>\n",
       "      <th>2017-03-17</th>\n",
       "      <td>70.500000</td>\n",
       "    </tr>\n",
       "    <tr>\n",
       "      <th>2017-03-18</th>\n",
       "      <td>70.166667</td>\n",
       "    </tr>\n",
       "    <tr>\n",
       "      <th>2017-03-19</th>\n",
       "      <td>73.400000</td>\n",
       "    </tr>\n",
       "    <tr>\n",
       "      <th>2017-03-20</th>\n",
       "      <td>73.666667</td>\n",
       "    </tr>\n",
       "  </tbody>\n",
       "</table>\n",
       "</div>"
      ],
      "text/plain": [
       "                 tobs\n",
       "date                 \n",
       "2017-03-03  72.714286\n",
       "2017-03-04  74.800000\n",
       "2017-03-05  70.500000\n",
       "2017-03-06  69.714286\n",
       "2017-03-07  68.000000\n",
       "2017-03-08  69.000000\n",
       "2017-03-09  69.285714\n",
       "2017-03-10  68.428571\n",
       "2017-03-11  76.600000\n",
       "2017-03-12  73.400000\n",
       "2017-03-13  70.142857\n",
       "2017-03-14  72.428571\n",
       "2017-03-15  72.166667\n",
       "2017-03-16  71.285714\n",
       "2017-03-17  70.500000\n",
       "2017-03-18  70.166667\n",
       "2017-03-19  73.400000\n",
       "2017-03-20  73.666667"
      ]
     },
     "execution_count": 44,
     "metadata": {},
     "output_type": "execute_result"
    }
   ],
   "source": [
    "tobs_query = tobs_query_func(year, start_month, start_day, end_month, end_day)\n",
    "\n",
    "tobs_query_df = pd.DataFrame(tobs_query)\n",
    "tobs_query_df.groupby('date').mean()"
   ]
  },
  {
   "cell_type": "code",
   "execution_count": 45,
   "metadata": {},
   "outputs": [
    {
     "data": {
      "text/plain": [
       "82.0"
      ]
     },
     "execution_count": 45,
     "metadata": {},
     "output_type": "execute_result"
    }
   ],
   "source": [
    "max_temp = tobs_query_df['tobs'].max()\n",
    "max_temp"
   ]
  },
  {
   "cell_type": "code",
   "execution_count": 46,
   "metadata": {},
   "outputs": [
    {
     "data": {
      "text/plain": [
       "62.0"
      ]
     },
     "execution_count": 46,
     "metadata": {},
     "output_type": "execute_result"
    }
   ],
   "source": [
    "min_temp = tobs_query_df['tobs'].min()\n",
    "min_temp"
   ]
  },
  {
   "cell_type": "code",
   "execution_count": 47,
   "metadata": {},
   "outputs": [
    {
     "data": {
      "text/plain": [
       "71.30275229357798"
      ]
     },
     "execution_count": 47,
     "metadata": {},
     "output_type": "execute_result"
    }
   ],
   "source": [
    "your_vacation = tobs_query_df['tobs'].mean()\n",
    "your_vacation"
   ]
  },
  {
   "cell_type": "code",
   "execution_count": 48,
   "metadata": {
    "collapsed": true
   },
   "outputs": [],
   "source": [
    "# x_values = np.arange(len(tobs_query_df_binning['count']))\n",
    "# tick_labelling = ['60', '65', '70', '75', '80', '85', '', '' ,'','','','']\n",
    "x_values = np.arange(1)\n",
    "tick_labelling = [\"Average\"]"
   ]
  },
  {
   "cell_type": "code",
   "execution_count": 49,
   "metadata": {},
   "outputs": [
    {
     "data": {
      "text/plain": [
       "<matplotlib.text.Text at 0x21b6d1e1ba8>"
      ]
     },
     "execution_count": 49,
     "metadata": {},
     "output_type": "execute_result"
    }
   ],
   "source": [
    "plt.bar(x_values, your_vacation, color = 'r', tick_label = tick_labelling, yerr = max_temp-min_temp)\n",
    "plt.xticks(np.arange(1))\n",
    "plt.ylim(-5, 100)\n",
    "plt.xlim(-1,1)\n",
    "plt.ylabel('Temperature (F)')\n",
    "plt.title(\"Your vacation temp average\")\n",
    "# for 2-d errorbars\n",
    "# plt.errorbar((0,.001), (70,60))"
   ]
  },
  {
   "cell_type": "code",
   "execution_count": 50,
   "metadata": {},
   "outputs": [
    {
     "data": {
      "image/png": "[encoded data removed]",
      "text/plain": [
       "<matplotlib.figure.Figure at 0x21b6d3b6860>"
      ]
     },
     "metadata": {},
     "output_type": "display_data"
    }
   ],
   "source": [
    "plt.show()"
   ]
  },
  {
   "cell_type": "markdown",
   "metadata": {
    "collapsed": true
   },
   "source": [
    "## Optional Recommended Analysis - Incomplete :( "
   ]
  },
  {
   "cell_type": "code",
   "execution_count": 51,
   "metadata": {
    "collapsed": true
   },
   "outputs": [],
   "source": [
    "location_list = []\n",
    "location_id_list = []\n",
    "for row in station_query:\n",
    "    location_list.append(row.name)\n",
    "    location_id_list.append(row.station)"
   ]
  },
  {
   "cell_type": "code",
   "execution_count": 52,
   "metadata": {},
   "outputs": [
    {
     "name": "stdout",
     "output_type": "stream",
     "text": [
      "[0]WAIKIKI 717.2, HI US\n",
      "[1]KANEOHE 838.1, HI US\n",
      "[2]KUALOA RANCH HEADQUARTERS 886.9, HI US\n",
      "[3]PEARL CITY, HI US\n",
      "[4]UPPER WAHIAWA 874.3, HI US\n",
      "[5]WAIMANALO EXPERIMENTAL FARM, HI US\n",
      "[6]WAIHEE 837.5, HI US\n",
      "[7]HONOLULU OBSERVATORY 702.2, HI US\n",
      "[8]MANOA LYON ARBO 785.2, HI US\n",
      "What location are you planning to visit? 3\n"
     ]
    },
    {
     "data": {
      "text/plain": [
       "'USC00517948'"
      ]
     },
     "execution_count": 52,
     "metadata": {},
     "output_type": "execute_result"
    }
   ],
   "source": [
    "for each in location_list:\n",
    "    print('[' +str(location_list.index(each))+ ']' + each)\n",
    "    \n",
    "location = int(input('What location are you planning to visit? '))\n",
    "location_id = location_id_list[location]\n",
    "location_id"
   ]
  },
  {
   "cell_type": "code",
   "execution_count": 53,
   "metadata": {
    "collapsed": true
   },
   "outputs": [],
   "source": [
    "def front_loading(one_digit_string):\n",
    "    if len(one_digit_string) == 1:\n",
    "        one_digit_string = '0'+one_digit_string\n",
    "        return one_digit_string\n",
    "    else:\n",
    "        return one_digit_string"
   ]
  },
  {
   "cell_type": "code",
   "execution_count": 54,
   "metadata": {},
   "outputs": [
    {
     "name": "stdout",
     "output_type": "stream",
     "text": [
      "What year is your travel plan? 2018\n",
      "What is the month of the year are you planning to DEPART? 3\n",
      "What is the day of the month that you are planning to DEPART? 3\n",
      "What is the month of the year are you planning to return? 3\n",
      "What is the day of the month that you are planning to return? 20\n"
     ]
    }
   ],
   "source": [
    "year = str(int(input('What year is your travel plan? ')) -1)\n",
    "start_month = str(input('What is the month of the year are you planning to DEPART? '))\n",
    "start_month = front_loading(start_month)\n",
    "start_day = str(input('What is the day of the month that you are planning to DEPART? '))\n",
    "start_day = front_loading(start_day)\n",
    "end_month = str(input('What is the month of the year are you planning to return? '))\n",
    "end_month = front_loading(end_month)\n",
    "end_day = str(input('What is the day of the month that you are planning to return? '))\n",
    "end_day = front_loading(end_day)"
   ]
  },
  {
   "cell_type": "code",
   "execution_count": 66,
   "metadata": {},
   "outputs": [
    {
     "data": {
      "text/plain": [
       "int"
      ]
     },
     "execution_count": 66,
     "metadata": {},
     "output_type": "execute_result"
    }
   ],
   "source": [
    "type(int(end_day))"
   ]
  },
  {
   "cell_type": "code",
   "execution_count": 71,
   "metadata": {
    "collapsed": true
   },
   "outputs": [],
   "source": [
    "normals_query = session.query(Measurements.station, Measurements.date, Measurements.tobs\n",
    "                          ).filter(Measurements.station == location_id).filter(and_(Measurements.date >= \n",
    "                                    date(int(year), int(start_month), int(start_day)), Measurements.date <= date(\n",
    "                                        int(year), int(end_month), int(end_day)))).all()\n",
    "    \n",
    "normals_query = session.query(Measurements.station, Measurements.date, Measurements.tobs\n",
    "                          ).filter(Measurements.station == location_id).filter(and_(\n",
    "    Measurements.date >= ('%'+'-'+str(start_month)+'-'+str(start_day))), Measurements.date <= ('%'+'-'+str(start_month)+'-'+str(start_day))).all()"
   ]
  },
  {
   "cell_type": "code",
   "execution_count": 72,
   "metadata": {
    "collapsed": true
   },
   "outputs": [],
   "source": [
    "for each in normals_query:\n",
    "    print(each)"
   ]
  },
  {
   "cell_type": "code",
   "execution_count": null,
   "metadata": {
    "collapsed": true
   },
   "outputs": [],
   "source": []
  }
 ],
 "metadata": {
  "kernelspec": {
   "display_name": "Python 3",
   "language": "python",
   "name": "python3"
  },
  "language_info": {
   "codemirror_mode": {
    "name": "ipython",
    "version": 3
   },
   "file_extension": ".py",
   "mimetype": "text/x-python",
   "name": "python",
   "nbconvert_exporter": "python",
   "pygments_lexer": "ipython3",
   "version": "3.6.1"
  }
 },
 "nbformat": 4,
 "nbformat_minor": 2
}
